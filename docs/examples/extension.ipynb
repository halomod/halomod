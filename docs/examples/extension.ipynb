{
 "cells": [
  {
   "cell_type": "markdown",
   "metadata": {},
   "source": [
    "# Customised extensions with `halomod`"
   ]
  },
  {
   "cell_type": "markdown",
   "metadata": {},
   "source": [
    "In this tutorial, we use the existing infrastructure of `halomod` and plug in a new type of tracer, namely HI using the model from [arxiv:2010.07985](https://arxiv.org/abs/2010.07985). This model requires three additions: a new density profile for HI; a new concentration-mass relation for HI; and finally a new HI HOD. \n",
    "\n",
    "`halomod` is extremely flexible. You can add custom models for *any* \"component\" (eg. mass functions, density profiles, bias functions, mass definitions,...). \n",
    "However, most likely you'll need to add something to build a new type of tracer, which is the case here."
   ]
  },
  {
   "cell_type": "markdown",
   "metadata": {},
   "source": [
    "Let's import a few basic things first:"
   ]
  },
  {
   "cell_type": "code",
   "execution_count": 1,
   "metadata": {},
   "outputs": [],
   "source": [
    "%matplotlib inline\n",
    "import hmf\n",
    "import matplotlib.pyplot as plt\n",
    "import numpy as np\n",
    "\n",
    "import halomod\n",
    "from halomod import TracerHaloModel"
   ]
  },
  {
   "cell_type": "code",
   "execution_count": 2,
   "metadata": {},
   "outputs": [
    {
     "name": "stdout",
     "output_type": "stream",
     "text": [
      "Using halomod v0.1.dev684+gc633d1a77 and hmf v3.5.2\n"
     ]
    }
   ],
   "source": [
    "print(f\"Using halomod v{halomod.__version__} and hmf v{hmf.__version__}\")"
   ]
  },
  {
   "cell_type": "markdown",
   "metadata": {},
   "source": [
    "## Creating a new density profile"
   ]
  },
  {
   "cell_type": "markdown",
   "metadata": {},
   "source": [
    "The HI density profile used here is:"
   ]
  },
  {
   "cell_type": "markdown",
   "metadata": {},
   "source": [
    "$$\n",
    "\\rho_{\\rm HI} = \\rho_s \\bigg(\\frac{r_s}{r}\\bigg)^b {\\rm exp}\\bigg[-a \\frac{r}{r_s}\\bigg]\n",
    "$$\n"
   ]
  },
  {
   "cell_type": "markdown",
   "metadata": {},
   "source": [
    "Notice that all the infrastructure has been set up by the `Profile` or `ProfileInf` class, depending on if you truncate the halos or not. And all you need to modify is the `_f` function, and optionally its integration `_h` and its Fourier transform `_p` (see documentation for [`profiles.py`](https://halomod.readthedocs.io/en/docs/_autosummary/halomod.profiles.html#module-halomod.profiles)). Note that these latter two are useful to speed up calculations, but are in principle optional and will be calculated numerically."
   ]
  },
  {
   "cell_type": "markdown",
   "metadata": {},
   "source": [
    "The `_f` function is:"
   ]
  },
  {
   "cell_type": "markdown",
   "metadata": {},
   "source": [
    "$$\n",
    "f(x) = \\frac{1}{x^b}{\\rm exp}\\big[-ax\\big]\n",
    "$$"
   ]
  },
  {
   "cell_type": "markdown",
   "metadata": {},
   "source": [
    "The integration in this case is:"
   ]
  },
  {
   "cell_type": "markdown",
   "metadata": {},
   "source": [
    "$$\n",
    "h = \\Gamma(3-b)\\times a^{b-3}\n",
    "$$"
   ]
  },
  {
   "cell_type": "markdown",
   "metadata": {},
   "source": [
    "where $\\Gamma$ is the Gamma function"
   ]
  },
  {
   "cell_type": "markdown",
   "metadata": {},
   "source": [
    "The Fourier Transformed profile is:"
   ]
  },
  {
   "cell_type": "markdown",
   "metadata": {},
   "source": [
    "$$\n",
    "p(K)= {\\rm tan}^{-1}(K/a)/K,\\,b=2\n",
    "$$\n",
    "$$\n",
    "\\begin{split}\n",
    "p(K)=&\\frac{-1}{1+(K/a)^2}\\Bigg(\\bigg(1+K^2/a^2\\bigg)^{b/2}\\times\\\\\n",
    "&\\Gamma(2-b)\\sin\\bigg[(b-2){\\rm arctan}\\big[K/a\\big]\\bigg]\\Bigg),\\,b\\ne2\n",
    "\\end{split}\n",
    "$$"
   ]
  },
  {
   "cell_type": "code",
   "execution_count": 3,
   "metadata": {},
   "outputs": [],
   "source": [
    "from scipy.special import gamma\n",
    "\n",
    "from halomod.profiles import ProfileInf"
   ]
  },
  {
   "cell_type": "code",
   "execution_count": 4,
   "metadata": {},
   "outputs": [],
   "source": [
    "class PowerLawWithExpCut(ProfileInf):\n",
    "    \"\"\"\n",
    "    A simple power law with exponential cut-off, assuming f(x)=1/x**b * exp[-ax].\n",
    "    \"\"\"\n",
    "\n",
    "    _defaults = ProfileInf._defaults | {\"a\": 0.049, \"b\": 2.248}\n",
    "\n",
    "    def _f(self, x):\n",
    "        return 1.0 / (x ** self.params[\"b\"]) * np.exp(-self.params[\"a\"] * x)\n",
    "\n",
    "    def _h(self, c=None):\n",
    "        return gamma(3 - self.params[\"b\"]) * self.params[\"a\"] ** (self.params[\"b\"] - 3)\n",
    "\n",
    "    def _p(self, K, c=None):\n",
    "        b = self.params[\"b\"]\n",
    "        a = self.params[\"a\"]\n",
    "        if b == 2:\n",
    "            return np.arctan(K / a) / K\n",
    "        else:\n",
    "            return (\n",
    "                -1\n",
    "                / K\n",
    "                * ((a**2 + K**2) ** (b / 2 - 1) * gamma(2 - b) * np.sin((b - 2) * np.arctan(K / a)))\n",
    "            )"
   ]
  },
  {
   "cell_type": "markdown",
   "metadata": {},
   "source": [
    "At bare minimum, you must specify `_f` which is just the density profile itself, and all the integration and Fourier transformation will be done numerically. However, that is very inefficient so you should always find analytical expression and specify if you can."
   ]
  },
  {
   "cell_type": "markdown",
   "metadata": {},
   "source": [
    "Now let's plug it into a halo model:"
   ]
  },
  {
   "cell_type": "code",
   "execution_count": 5,
   "metadata": {},
   "outputs": [],
   "source": [
    "hm = TracerHaloModel(tracer_profile_model=PowerLawWithExpCut, transfer_model=\"EH\")"
   ]
  },
  {
   "cell_type": "markdown",
   "metadata": {},
   "source": [
    "Note that as of v2 of `halomod`, defining a new model for any particular component will automatically add it to a registry of 'plugins', and you may then construct the overall model using a string reference to the model (i.e. we could have passed `tracer_profile_model=\"PowerLawWithExpCut\"`). "
   ]
  },
  {
   "cell_type": "markdown",
   "metadata": {},
   "source": [
    "And see the profile for a halo of mass $10^{10} M_\\odot h^{-1}$ in Fourier space:"
   ]
  },
  {
   "cell_type": "code",
   "execution_count": 6,
   "metadata": {},
   "outputs": [
    {
     "data": {
      "image/png": "[encoded data removed]",
      "text/plain": [
       "<Figure size 640x480 with 1 Axes>"
      ]
     },
     "metadata": {},
     "output_type": "display_data"
    }
   ],
   "source": [
    "plt.plot(hm.k, hm.tracer_profile_ukm[:, 1000])\n",
    "plt.xscale(\"log\")\n",
    "plt.yscale(\"log\")\n",
    "plt.xlim((1e-2, 1e5));\n",
    "# plt.ylim((1e-1,1))"
   ]
  },
  {
   "cell_type": "markdown",
   "metadata": {},
   "source": [
    "And we've set up our profile model.\n",
    "\n",
    "This profile model has 2 additional model parameters. You can always update these parameters using:"
   ]
  },
  {
   "cell_type": "code",
   "execution_count": 7,
   "metadata": {},
   "outputs": [],
   "source": [
    "hm.tracer_profile_params = {\"a\": 0.049, \"b\": 2.248}"
   ]
  },
  {
   "cell_type": "markdown",
   "metadata": {},
   "source": [
    "## Creating a new concentration-mass relation"
   ]
  },
  {
   "cell_type": "markdown",
   "metadata": {},
   "source": [
    "The concentration-mass relation we use here follows the one from Maccio et al.(2007):"
   ]
  },
  {
   "cell_type": "markdown",
   "metadata": {},
   "source": [
    "$$\n",
    "c_{\\rm HI}(M,z) = c_0 \\Big(\\frac{M}{10^{11}{\\rm M_\\odot h^{-1}}}\\Big)^{-0.109}\\frac{4}{(1+z)^\\gamma}\n",
    "$$"
   ]
  },
  {
   "cell_type": "markdown",
   "metadata": {},
   "source": [
    "Again, because `halomod` already has a generic `CMRelation` class in place, all you really need is to specify a `cm` function for the equation above:"
   ]
  },
  {
   "cell_type": "code",
   "execution_count": 8,
   "metadata": {},
   "outputs": [],
   "source": [
    "from hmf.halos.mass_definitions import SOMean\n",
    "\n",
    "from halomod.concentration import CMRelation"
   ]
  },
  {
   "cell_type": "code",
   "execution_count": 9,
   "metadata": {},
   "outputs": [],
   "source": [
    "class Maccio07(CMRelation):\n",
    "    \"\"\"\n",
    "    HI concentration-mass relation based on Maccio et al.(2007).\n",
    "    Default value taken from 1611.06235.\n",
    "    \"\"\"\n",
    "\n",
    "    _defaults = {\"c_0\": 28.65, \"gamma\": 1.45}\n",
    "    native_mdefs = (SOMean(),)\n",
    "\n",
    "    def cm(self, m, z):\n",
    "        return (\n",
    "            self.params[\"c_0\"] * (m * 10 ** (-11)) ** (-0.109) * 4 / (1 + z) ** self.params[\"gamma\"]\n",
    "        )"
   ]
  },
  {
   "cell_type": "markdown",
   "metadata": {},
   "source": [
    "Note that for the concentration-mass relation that you put in, you need to specify the mass definition that this relation is defined in. In this case, it is defined in Spherical-Overdensity method, which is the default."
   ]
  },
  {
   "cell_type": "markdown",
   "metadata": {},
   "source": [
    "And set this to be the model for the tracer concentration-mass relation:"
   ]
  },
  {
   "cell_type": "code",
   "execution_count": 10,
   "metadata": {},
   "outputs": [],
   "source": [
    "hm.tracer_concentration_model = Maccio07"
   ]
  },
  {
   "cell_type": "markdown",
   "metadata": {},
   "source": [
    "And check the concentration-mass relation at z=0:"
   ]
  },
  {
   "cell_type": "code",
   "execution_count": 11,
   "metadata": {},
   "outputs": [
    {
     "data": {
      "image/png": "[encoded data removed]",
      "text/plain": [
       "<Figure size 640x480 with 1 Axes>"
      ]
     },
     "metadata": {},
     "output_type": "display_data"
    }
   ],
   "source": [
    "plt.plot(hm.m, hm.tracer_concentration.cm(hm.m, 0))\n",
    "plt.xscale(\"log\")\n",
    "plt.xlim(1e5, 1e15)\n",
    "plt.ylim((1e1, 1e3))\n",
    "plt.yscale(\"log\");"
   ]
  },
  {
   "cell_type": "markdown",
   "metadata": {},
   "source": [
    "Notice that this model has two additional parameters, which can be updated using:"
   ]
  },
  {
   "cell_type": "code",
   "execution_count": 12,
   "metadata": {},
   "outputs": [],
   "source": [
    "hm.tracer_concentration_params = {\"c_0\": 28.65, \"gamma\": 1.45}"
   ]
  },
  {
   "cell_type": "markdown",
   "metadata": {},
   "source": [
    "See the documentation for [`concentration.py`](https://halomod.readthedocs.io/en/docs/_autosummary/halomod.concentration.html) for more."
   ]
  },
  {
   "cell_type": "markdown",
   "metadata": {},
   "source": [
    "## Creating a new HOD"
   ]
  },
  {
   "cell_type": "markdown",
   "metadata": {},
   "source": [
    "The HI HOD we use here is:"
   ]
  },
  {
   "cell_type": "markdown",
   "metadata": {},
   "source": [
    "$$\n",
    "\\begin{split}\n",
    "\\langle M_{\\rm HI}^{\\rm cen}(M_h) \\rangle = M_h& \\Bigg[a_1^{\\rm cen}\\bigg(\\frac{M_h}{10^{10} M_\\odot}\\bigg)^{\\beta_{\\rm cen}} {\\rm exp}\\Big[{-\\bigg(\\frac{M_h}{M^{\\rm cen}_{\\rm break}}\\bigg)^{\\alpha_{\\rm cen}}}\\Big] \\\\&+a_2^{\\rm cen}\\Bigg] {\\rm exp}\\Big[{-\\bigg(\\frac{M_{\\rm min}^{\\rm cen}}{M_h}\\bigg)^{0.5}}\\Big]\n",
    "\\end{split}\n",
    "$$"
   ]
  },
  {
   "cell_type": "markdown",
   "metadata": {},
   "source": [
    "$$\n",
    "\\begin{split}\n",
    "\\langle M_{\\rm HI}^{\\rm sat}(M_h) \\rangle = \n",
    "M_0^{\\rm sat}\\bigg( \\frac{M_h}{M^{\\rm sat}_{\\rm min}}\\bigg)^{\\beta_{\\rm sat}}\n",
    "{\\rm exp}\\Big[{-\\bigg(\\frac{M^{\\rm sat}_{\\rm min}}{M_h}\\bigg)^{\\alpha_{\\rm sat}}}\\Big]\n",
    "\\end{split}\n",
    "$$"
   ]
  },
  {
   "cell_type": "markdown",
   "metadata": {},
   "source": [
    "For the HOD, it's a bit more complicated. First, one needs to decide what type of tracer it is. The most generic class to use is `HOD`, however, you may prefer `HODBulk` where the tracer is considered to be continuously distributed ; or `HODPoisson`, which assumes Poisson distributed discrete satellite components, which is commonly used for galaxies.\n",
    "\n",
    "Second, if your model has a minimum halo mass to host any tracer as a sharp cut-off (or not), you should specify in your model definition\n",
    "\n",
    "```python\n",
    "sharp_cut = True # or False\n",
    "```\n",
    "\n",
    "If your model has a seperation of central and satellite components, you need to specify if the satellite occupation is inherently dependent on the existence of central galaxies:\n",
    "\n",
    "```python\n",
    "central_condition_inherent = False # or True\n",
    "```\n",
    "\n",
    "If False, the actual satellite component will be your satellite occupation times occupation for central galaxies.\n",
    "\n",
    "See the documentation for [`hod.py`](https://halomod.readthedocs.io/en/docs/_autosummary/halomod.hod.html), or the [reference paper](https://arxiv.org/abs/2009.14066) for more."
   ]
  },
  {
   "cell_type": "markdown",
   "metadata": {},
   "source": [
    "Finally, you need to specify how to convert units between your HOD and the resulting power spectrum. For example, for HI the HOD is written in mass units, whereas the power spectrum is in temperature units. This is done by specifying a `unit_conversion` method."
   ]
  },
  {
   "cell_type": "markdown",
   "metadata": {},
   "source": [
    "Additionally, sometimes your HOD contains methods that need to be calculated, such as virial velocity of the halos, which you can just put into the class."
   ]
  },
  {
   "cell_type": "code",
   "execution_count": 13,
   "metadata": {},
   "outputs": [],
   "source": [
    "import astropy.constants as astroconst\n",
    "import scipy.constants as const\n",
    "\n",
    "from halomod.hod import HODPoisson"
   ]
  },
  {
   "cell_type": "markdown",
   "metadata": {},
   "source": [
    "And in our case for utility, we also specify the number of galaxies in this model, which is defined by `_tracer_per_central` and `_tracer_per_satellite`:"
   ]
  },
  {
   "cell_type": "code",
   "execution_count": 14,
   "metadata": {},
   "outputs": [],
   "source": [
    "class Spinelli19(HODPoisson):\n",
    "    \"\"\"\n",
    "    Six-parameter model of Spinelli et al. (2019)\n",
    "    Default is taken to be z=1(need to set it up manually via hm.update)\n",
    "    \"\"\"\n",
    "\n",
    "    _defaults = {\n",
    "        \"a1\": 0.0016,  # gives HI mass amplitude of the power law\n",
    "        \"a2\": 0.00011,  # gives HI mass amplitude of the power law\n",
    "        \"alpha\": 0.56,  # slope of exponential break\n",
    "        \"beta\": 0.43,  # slope of mass\n",
    "        \"M_min\": 9,  # Truncation Mass\n",
    "        \"M_break\": 11.86,  # Characteristic Mass\n",
    "        \"M_1\": -2.99,  # mass of exponential cutoff\n",
    "        \"sigma_A\": 0,  # The (constant) standard deviation of the tracer\n",
    "        \"M_max\": 18,  # Truncation mass\n",
    "        \"M_0\": 8.31,  # Amplitude of satellite HOD\n",
    "        \"M_break_sat\": 11.4,  # characteristic mass for satellite HOD\n",
    "        \"alpha_sat\": 0.84,  # slope of exponential cut-off for satellite\n",
    "        \"beta_sat\": 1.10,  # slope of mass for satellite\n",
    "        \"M_1_counts\": 12.851,\n",
    "        \"alpha_counts\": 1.049,\n",
    "        \"M_min_counts\": 11,  # Truncation Mass\n",
    "        \"M_max_counts\": 15,  # Truncation Mass\n",
    "        \"a\": 0.049,\n",
    "        \"b\": 2.248,\n",
    "        \"eta\": 1.0,\n",
    "    }\n",
    "    sharp_cut = False\n",
    "    central_condition_inherent = False\n",
    "\n",
    "    def _central_occupation(self, m):\n",
    "        alpha = self.params[\"alpha\"]\n",
    "        beta = self.params[\"beta\"]\n",
    "        m_1 = 10 ** self.params[\"M_1\"]\n",
    "        a1 = self.params[\"a1\"]\n",
    "        a2 = self.params[\"a2\"]\n",
    "        m_break = 10 ** self.params[\"M_break\"]\n",
    "\n",
    "        out = (\n",
    "            m\n",
    "            * (a1 * (m / 1e10) ** beta * np.exp(-((m / m_break) ** alpha)) + a2)\n",
    "            * np.exp(-((m_1 / m) ** 0.5))\n",
    "        )\n",
    "        return out\n",
    "\n",
    "    def _satellite_occupation(self, m):\n",
    "        alpha = self.params[\"alpha_sat\"]\n",
    "        beta = self.params[\"beta_sat\"]\n",
    "        amp = 10 ** self.params[\"M_0\"]\n",
    "        m1 = 10 ** self.params[\"M_break_sat\"]\n",
    "        array = np.zeros_like(m)\n",
    "        array[m >= 10**11] = 1\n",
    "        return amp * (m / m1) ** beta * np.exp(-((m1 / m) ** alpha)) * array\n",
    "        # return 10**8\n",
    "\n",
    "    def unit_conversion(self, cosmo, z):\n",
    "        \"A factor to convert the total occupation to a desired unit.\"\n",
    "        A12 = 2.869e-15\n",
    "        nu21cm = 1.42e9\n",
    "        Const = (3.0 * A12 * const.h * const.c**3.0) / (\n",
    "            32.0 * np.pi * (const.m_p + const.m_e) * const.Boltzmann * nu21cm**2\n",
    "        )\n",
    "        Mpcoverh_3 = ((astroconst.kpc.value * 1e3) / (cosmo.H0.value / 100.0)) ** 3\n",
    "        hubble = cosmo.H0.value * cosmo.efunc(z) * 1.0e3 / (astroconst.kpc.value * 1e3)\n",
    "        temp_conv = Const * ((1.0 + z) ** 2 / hubble)\n",
    "        # convert to Mpc^3, solar mass\n",
    "        temp_conv = temp_conv / Mpcoverh_3 * astroconst.M_sun.value\n",
    "        return temp_conv\n",
    "\n",
    "    def _tracer_per_central(self, M):\n",
    "        \"\"\"Number of tracers per central tracer source\"\"\"\n",
    "        n_c = np.zeros_like(M)\n",
    "        n_c[\n",
    "            np.logical_and(\n",
    "                10 ** self.params[\"M_min_counts\"] <= M,\n",
    "                10 ** self.params[\"M_max_counts\"] >= M,\n",
    "            )\n",
    "        ] = 1\n",
    "        return n_c\n",
    "\n",
    "    def _tracer_per_satellite(self, M):\n",
    "        \"\"\"Number of tracers per satellite tracer source\"\"\"\n",
    "        n_s = np.zeros_like(M)\n",
    "        index = np.logical_and(\n",
    "            10 ** self.params[\"M_min_counts\"] <= M,\n",
    "            10 ** self.params[\"M_max_counts\"] >= M,\n",
    "        )\n",
    "        n_s[index] = (M[index] / 10 ** self.params[\"M_1_counts\"]) ** self.params[\"alpha_counts\"]\n",
    "\n",
    "        return n_s"
   ]
  },
  {
   "cell_type": "markdown",
   "metadata": {},
   "source": [
    "And now update the halo model with this newly defined HOD:"
   ]
  },
  {
   "cell_type": "code",
   "execution_count": 15,
   "metadata": {},
   "outputs": [],
   "source": [
    "hm.hod_model = Spinelli19"
   ]
  },
  {
   "cell_type": "markdown",
   "metadata": {},
   "source": [
    "You can check out the mean density of HI in units of $M_\\odot h^2 {\\rm Mpc}^{-3}$:"
   ]
  },
  {
   "cell_type": "code",
   "execution_count": 16,
   "metadata": {},
   "outputs": [
    {
     "data": {
      "text/plain": [
       "119798016.01701438"
      ]
     },
     "execution_count": 16,
     "metadata": {},
     "output_type": "execute_result"
    }
   ],
   "source": [
    "hm.mean_tracer_den"
   ]
  },
  {
   "cell_type": "markdown",
   "metadata": {},
   "source": [
    "And in temperature units:"
   ]
  },
  {
   "cell_type": "code",
   "execution_count": 17,
   "metadata": {},
   "outputs": [
    {
     "data": {
      "text/plain": [
       "np.float64(3.7574594855492206e-05)"
      ]
     },
     "execution_count": 17,
     "metadata": {},
     "output_type": "execute_result"
    }
   ],
   "source": [
    "hm.mean_tracer_den_unit"
   ]
  },
  {
   "cell_type": "markdown",
   "metadata": {},
   "source": [
    "You can easily update the parameters using:"
   ]
  },
  {
   "cell_type": "code",
   "execution_count": 18,
   "metadata": {},
   "outputs": [],
   "source": [
    "hm.hod_params = {\"beta\": 1.0}"
   ]
  },
  {
   "cell_type": "markdown",
   "metadata": {},
   "source": [
    "And the power spectrum in length units:"
   ]
  },
  {
   "cell_type": "code",
   "execution_count": 19,
   "metadata": {},
   "outputs": [
    {
     "data": {
      "image/png": "[encoded data removed]",
      "text/plain": [
       "<Figure size 640x480 with 1 Axes>"
      ]
     },
     "metadata": {},
     "output_type": "display_data"
    }
   ],
   "source": [
    "plt.plot(hm.k_hm, hm.power_auto_tracer)\n",
    "plt.xscale(\"log\")\n",
    "plt.yscale(\"log\")\n",
    "plt.xlabel(\"k [$Mpc^{-1} h$]\")\n",
    "plt.ylabel(r\"$\\rm P(k) \\ [{\\rm Mpc^3}h^{-3}]$\");"
   ]
  },
  {
   "cell_type": "markdown",
   "metadata": {},
   "source": [
    "And in temperature units:"
   ]
  },
  {
   "cell_type": "code",
   "execution_count": 20,
   "metadata": {},
   "outputs": [
    {
     "data": {
      "image/png": "[encoded data removed]",
      "text/plain": [
       "<Figure size 640x480 with 1 Axes>"
      ]
     },
     "metadata": {},
     "output_type": "display_data"
    }
   ],
   "source": [
    "plt.plot(hm.k_hm, hm.power_auto_tracer * hm.mean_tracer_den_unit**2 * hm.k_hm**3 / (2 * np.pi**2))\n",
    "plt.xscale(\"log\")\n",
    "plt.yscale(\"log\")\n",
    "\n",
    "plt.xlabel(\"k [$Mpc^{-1} h$]\")\n",
    "plt.ylabel(r\"$\\Delta^2(k) \\ \\ [{\\rm K}^2]$\");"
   ]
  },
  {
   "cell_type": "markdown",
   "metadata": {},
   "source": [
    "From v2.0.0, all of these HI component models, from [arxiv:2010.07985](https://arxiv.org/abs/2010.07985) are available in `halomod`. To use this model in full, simply call:"
   ]
  },
  {
   "cell_type": "code",
   "execution_count": 21,
   "metadata": {},
   "outputs": [],
   "source": [
    "hm = TracerHaloModel(\n",
    "    hod_model=\"Spinelli19\",\n",
    "    tracer_concentration_model=\"Maccio07\",\n",
    "    tracer_profile_model=\"PowerLawWithExpCut\",\n",
    "    z=1,  # for default value of hod parameters,\n",
    "    transfer_model=\"EH\",\n",
    ")"
   ]
  }
 ],
 "metadata": {
  "kernelspec": {
   "display_name": "cosmosis",
   "language": "python",
   "name": "python3"
  },
  "language_info": {
   "codemirror_mode": {
    "name": "ipython",
    "version": 3
   },
   "file_extension": ".py",
   "mimetype": "text/x-python",
   "name": "python",
   "nbconvert_exporter": "python",
   "pygments_lexer": "ipython3",
   "version": "3.11.13"
  }
 },
 "nbformat": 4,
 "nbformat_minor": 4
}
